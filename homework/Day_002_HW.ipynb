{
 "cells": [
  {
   "cell_type": "markdown",
   "metadata": {},
   "source": [
    "## 練習時間\n",
    "資料的操作有很多，接下來的馬拉松中我們會介紹常被使用到的操作，參加者不妨先自行想像一下，第一次看到資料，我們一般會想知道什麼訊息？\n",
    "\n",
    "#### Ex: 如何知道資料的 row 數以及 column 數、有什麼欄位、多少欄位、如何截取部分的資料等等\n",
    "\n",
    "有了對資料的好奇之後，我們又怎麼通過程式碼來達成我們的目的呢？\n",
    "\n",
    "#### 可參考該[基礎教材](https://bookdata.readthedocs.io/en/latest/base/01_pandas.html#DataFrame-%E5%85%A5%E9%97%A8)或自行 google"
   ]
  },
  {
   "cell_type": "markdown",
   "metadata": {},
   "source": [
    "# [作業目標]\n",
    "- 熟悉更多的 Python 資料操作"
   ]
  },
  {
   "cell_type": "markdown",
   "metadata": {},
   "source": [
    "# [作業重點]\n",
    "- 列出資料的大小 (In[4], Hint : shape)\n",
    "- 列出所有欄位 (In[5], 有多種寫法)\n",
    "- 擷取部分資料 (In[6], Hint : loc 或 iloc)"
   ]
  },
  {
   "cell_type": "code",
   "execution_count": 5,
   "metadata": {},
   "outputs": [
    {
     "data": {
      "text/plain": [
       "0"
      ]
     },
     "execution_count": 5,
     "metadata": {},
     "output_type": "execute_result"
    }
   ],
   "source": [
    "import gc\n",
    "gc.collect()"
   ]
  },
  {
   "cell_type": "code",
   "execution_count": 6,
   "metadata": {},
   "outputs": [],
   "source": [
    "import os\n",
    "import numpy as np\n",
    "import pandas as pd"
   ]
  },
  {
   "cell_type": "code",
   "execution_count": 7,
   "metadata": {},
   "outputs": [],
   "source": [
    "# 設定 data_path\n",
    "dir_data = './data'"
   ]
  },
  {
   "cell_type": "code",
   "execution_count": 8,
   "metadata": {},
   "outputs": [
    {
     "name": "stdout",
     "output_type": "stream",
     "text": [
      "Path of read in data: ./data\\HomeCredit_columns_description.csv\n"
     ]
    }
   ],
   "source": [
    "f_app = os.path.join(dir_data, 'HomeCredit_columns_description.csv')\n",
    "print('Path of read in data: %s' % (f_app))\n",
    "HC_des = pd.read_csv(f_app,engine = 'python')"
   ]
  },
  {
   "cell_type": "markdown",
   "metadata": {},
   "source": [
    "### 如果沒有想法，可以先嘗試找出剛剛例子中提到的問題的答案\n",
    "#### 資料的 row 數以及 column 數"
   ]
  },
  {
   "cell_type": "code",
   "execution_count": 9,
   "metadata": {},
   "outputs": [
    {
     "data": {
      "text/html": [
       "<div>\n",
       "<style scoped>\n",
       "    .dataframe tbody tr th:only-of-type {\n",
       "        vertical-align: middle;\n",
       "    }\n",
       "\n",
       "    .dataframe tbody tr th {\n",
       "        vertical-align: top;\n",
       "    }\n",
       "\n",
       "    .dataframe thead th {\n",
       "        text-align: right;\n",
       "    }\n",
       "</style>\n",
       "<table border=\"1\" class=\"dataframe\">\n",
       "  <thead>\n",
       "    <tr style=\"text-align: right;\">\n",
       "      <th></th>\n",
       "      <th>Unnamed: 0</th>\n",
       "      <th>Table</th>\n",
       "      <th>Row</th>\n",
       "      <th>Description</th>\n",
       "      <th>Special</th>\n",
       "    </tr>\n",
       "  </thead>\n",
       "  <tbody>\n",
       "    <tr>\n",
       "      <th>0</th>\n",
       "      <td>1</td>\n",
       "      <td>application_{train|test}.csv</td>\n",
       "      <td>SK_ID_CURR</td>\n",
       "      <td>ID of loan in our sample</td>\n",
       "      <td>NaN</td>\n",
       "    </tr>\n",
       "    <tr>\n",
       "      <th>1</th>\n",
       "      <td>2</td>\n",
       "      <td>application_{train|test}.csv</td>\n",
       "      <td>TARGET</td>\n",
       "      <td>Target variable (1 - client with payment diffi...</td>\n",
       "      <td>NaN</td>\n",
       "    </tr>\n",
       "    <tr>\n",
       "      <th>2</th>\n",
       "      <td>5</td>\n",
       "      <td>application_{train|test}.csv</td>\n",
       "      <td>NAME_CONTRACT_TYPE</td>\n",
       "      <td>Identification if loan is cash or revolving</td>\n",
       "      <td>NaN</td>\n",
       "    </tr>\n",
       "    <tr>\n",
       "      <th>3</th>\n",
       "      <td>6</td>\n",
       "      <td>application_{train|test}.csv</td>\n",
       "      <td>CODE_GENDER</td>\n",
       "      <td>Gender of the client</td>\n",
       "      <td>NaN</td>\n",
       "    </tr>\n",
       "    <tr>\n",
       "      <th>4</th>\n",
       "      <td>7</td>\n",
       "      <td>application_{train|test}.csv</td>\n",
       "      <td>FLAG_OWN_CAR</td>\n",
       "      <td>Flag if the client owns a car</td>\n",
       "      <td>NaN</td>\n",
       "    </tr>\n",
       "  </tbody>\n",
       "</table>\n",
       "</div>"
      ],
      "text/plain": [
       "   Unnamed: 0                         Table                 Row  \\\n",
       "0           1  application_{train|test}.csv          SK_ID_CURR   \n",
       "1           2  application_{train|test}.csv              TARGET   \n",
       "2           5  application_{train|test}.csv  NAME_CONTRACT_TYPE   \n",
       "3           6  application_{train|test}.csv         CODE_GENDER   \n",
       "4           7  application_{train|test}.csv        FLAG_OWN_CAR   \n",
       "\n",
       "                                         Description Special  \n",
       "0                           ID of loan in our sample     NaN  \n",
       "1  Target variable (1 - client with payment diffi...     NaN  \n",
       "2        Identification if loan is cash or revolving     NaN  \n",
       "3                               Gender of the client     NaN  \n",
       "4                      Flag if the client owns a car     NaN  "
      ]
     },
     "execution_count": 9,
     "metadata": {},
     "output_type": "execute_result"
    }
   ],
   "source": [
    "HC_des.head()"
   ]
  },
  {
   "cell_type": "code",
   "execution_count": 10,
   "metadata": {},
   "outputs": [
    {
     "name": "stdout",
     "output_type": "stream",
     "text": [
      "row,column\n",
      "219 5\n"
     ]
    }
   ],
   "source": [
    "print('row,column')\n",
    "print(HC_des.shape[0],HC_des.shape[1])"
   ]
  },
  {
   "cell_type": "markdown",
   "metadata": {},
   "source": [
    "#### 列出所有欄位"
   ]
  },
  {
   "cell_type": "code",
   "execution_count": 11,
   "metadata": {},
   "outputs": [
    {
     "name": "stdout",
     "output_type": "stream",
     "text": [
      "Index(['Unnamed: 0', 'Table', 'Row', 'Description', 'Special'], dtype='object')\n"
     ]
    }
   ],
   "source": [
    "print(HC_des.columns)"
   ]
  },
  {
   "cell_type": "markdown",
   "metadata": {},
   "source": [
    "#### 修改欄位名稱"
   ]
  },
  {
   "cell_type": "code",
   "execution_count": 12,
   "metadata": {},
   "outputs": [],
   "source": [
    "HC_des.columns = ['Space','Table','Row','Description','Special']"
   ]
  },
  {
   "cell_type": "code",
   "execution_count": 13,
   "metadata": {},
   "outputs": [
    {
     "name": "stdout",
     "output_type": "stream",
     "text": [
      "Index(['Space', 'Table', 'Row', 'Description', 'Special'], dtype='object')\n"
     ]
    }
   ],
   "source": [
    "print(HC_des.columns)"
   ]
  },
  {
   "cell_type": "markdown",
   "metadata": {},
   "source": [
    "#### 截取部分資料"
   ]
  },
  {
   "cell_type": "code",
   "execution_count": 46,
   "metadata": {},
   "outputs": [
    {
     "name": "stdout",
     "output_type": "stream",
     "text": [
      "     Space                         Table                           Row  \\\n",
      "50      53  application_{train|test}.csv                 ENTRANCES_AVG   \n",
      "51      54  application_{train|test}.csv                 FLOORSMAX_AVG   \n",
      "52      55  application_{train|test}.csv                 FLOORSMIN_AVG   \n",
      "53      56  application_{train|test}.csv                  LANDAREA_AVG   \n",
      "54      57  application_{train|test}.csv          LIVINGAPARTMENTS_AVG   \n",
      "55      58  application_{train|test}.csv                LIVINGAREA_AVG   \n",
      "56      59  application_{train|test}.csv       NONLIVINGAPARTMENTS_AVG   \n",
      "57      60  application_{train|test}.csv             NONLIVINGAREA_AVG   \n",
      "58      61  application_{train|test}.csv               APARTMENTS_MODE   \n",
      "59      62  application_{train|test}.csv             BASEMENTAREA_MODE   \n",
      "60      63  application_{train|test}.csv  YEARS_BEGINEXPLUATATION_MODE   \n",
      "61      64  application_{train|test}.csv              YEARS_BUILD_MODE   \n",
      "62      65  application_{train|test}.csv               COMMONAREA_MODE   \n",
      "63      66  application_{train|test}.csv                ELEVATORS_MODE   \n",
      "64      67  application_{train|test}.csv                ENTRANCES_MODE   \n",
      "65      68  application_{train|test}.csv                FLOORSMAX_MODE   \n",
      "66      69  application_{train|test}.csv                FLOORSMIN_MODE   \n",
      "67      70  application_{train|test}.csv                 LANDAREA_MODE   \n",
      "68      71  application_{train|test}.csv         LIVINGAPARTMENTS_MODE   \n",
      "69      72  application_{train|test}.csv               LIVINGAREA_MODE   \n",
      "70      73  application_{train|test}.csv      NONLIVINGAPARTMENTS_MODE   \n",
      "71      74  application_{train|test}.csv            NONLIVINGAREA_MODE   \n",
      "72      75  application_{train|test}.csv               APARTMENTS_MEDI   \n",
      "73      76  application_{train|test}.csv             BASEMENTAREA_MEDI   \n",
      "74      77  application_{train|test}.csv  YEARS_BEGINEXPLUATATION_MEDI   \n",
      "75      78  application_{train|test}.csv              YEARS_BUILD_MEDI   \n",
      "76      79  application_{train|test}.csv               COMMONAREA_MEDI   \n",
      "77      80  application_{train|test}.csv                ELEVATORS_MEDI   \n",
      "78      81  application_{train|test}.csv                ENTRANCES_MEDI   \n",
      "79      82  application_{train|test}.csv                FLOORSMAX_MEDI   \n",
      "..     ...                           ...                           ...   \n",
      "171    174       credit_card_balance.csv                        SK_DPD   \n",
      "172    175       credit_card_balance.csv                    SK_DPD_DEF   \n",
      "173    176      previous_application.csv                   SK_ID_PREV    \n",
      "174    177      previous_application.csv                    SK_ID_CURR   \n",
      "175    178      previous_application.csv            NAME_CONTRACT_TYPE   \n",
      "176    179      previous_application.csv                   AMT_ANNUITY   \n",
      "177    180      previous_application.csv               AMT_APPLICATION   \n",
      "178    181      previous_application.csv                    AMT_CREDIT   \n",
      "179    182      previous_application.csv              AMT_DOWN_PAYMENT   \n",
      "180    183      previous_application.csv               AMT_GOODS_PRICE   \n",
      "181    184      previous_application.csv    WEEKDAY_APPR_PROCESS_START   \n",
      "182    185      previous_application.csv       HOUR_APPR_PROCESS_START   \n",
      "183    186      previous_application.csv   FLAG_LAST_APPL_PER_CONTRACT   \n",
      "184    187      previous_application.csv        NFLAG_LAST_APPL_IN_DAY   \n",
      "185    188      previous_application.csv              NFLAG_MICRO_CASH   \n",
      "186    189      previous_application.csv             RATE_DOWN_PAYMENT   \n",
      "187    190      previous_application.csv         RATE_INTEREST_PRIMARY   \n",
      "188    191      previous_application.csv      RATE_INTEREST_PRIVILEGED   \n",
      "189    192      previous_application.csv        NAME_CASH_LOAN_PURPOSE   \n",
      "190    193      previous_application.csv          NAME_CONTRACT_STATUS   \n",
      "191    194      previous_application.csv                 DAYS_DECISION   \n",
      "192    195      previous_application.csv             NAME_PAYMENT_TYPE   \n",
      "193    196      previous_application.csv            CODE_REJECT_REASON   \n",
      "194    197      previous_application.csv               NAME_TYPE_SUITE   \n",
      "195    198      previous_application.csv              NAME_CLIENT_TYPE   \n",
      "196    199      previous_application.csv           NAME_GOODS_CATEGORY   \n",
      "197    200      previous_application.csv                NAME_PORTFOLIO   \n",
      "198    201      previous_application.csv             NAME_PRODUCT_TYPE   \n",
      "199    202      previous_application.csv                  CHANNEL_TYPE   \n",
      "200    203      previous_application.csv              SELLERPLACE_AREA   \n",
      "\n",
      "                                           Description  \\\n",
      "50   Normalized information about building where th...   \n",
      "51   Normalized information about building where th...   \n",
      "52   Normalized information about building where th...   \n",
      "53   Normalized information about building where th...   \n",
      "54   Normalized information about building where th...   \n",
      "55   Normalized information about building where th...   \n",
      "56   Normalized information about building where th...   \n",
      "57   Normalized information about building where th...   \n",
      "58   Normalized information about building where th...   \n",
      "59   Normalized information about building where th...   \n",
      "60   Normalized information about building where th...   \n",
      "61   Normalized information about building where th...   \n",
      "62   Normalized information about building where th...   \n",
      "63   Normalized information about building where th...   \n",
      "64   Normalized information about building where th...   \n",
      "65   Normalized information about building where th...   \n",
      "66   Normalized information about building where th...   \n",
      "67   Normalized information about building where th...   \n",
      "68   Normalized information about building where th...   \n",
      "69   Normalized information about building where th...   \n",
      "70   Normalized information about building where th...   \n",
      "71   Normalized information about building where th...   \n",
      "72   Normalized information about building where th...   \n",
      "73   Normalized information about building where th...   \n",
      "74   Normalized information about building where th...   \n",
      "75   Normalized information about building where th...   \n",
      "76   Normalized information about building where th...   \n",
      "77   Normalized information about building where th...   \n",
      "78   Normalized information about building where th...   \n",
      "79   Normalized information about building where th...   \n",
      "..                                                 ...   \n",
      "171  DPD (Days past due) during the month on the pr...   \n",
      "172  DPD (Days past due) during the month with tole...   \n",
      "173  ID of previous credit in Home credit related t...   \n",
      "174                           ID of loan in our sample   \n",
      "175  Contract product type (Cash loan, consumer loa...   \n",
      "176                    Annuity of previous application   \n",
      "177  For how much credit did client ask on the prev...   \n",
      "178  Final credit amount on the previous applicatio...   \n",
      "179           Down payment on the previous application   \n",
      "180  Goods price of good that client asked for (if ...   \n",
      "181  On which day of the week did the client apply ...   \n",
      "182  Approximately at what day hour did the client ...   \n",
      "183  Flag if it was last application for the previo...   \n",
      "184  Flag if the application was the last applicati...   \n",
      "185                            Flag Micro finance loan   \n",
      "186    Down payment rate normalized on previous credit   \n",
      "187        Interest rate normalized on previous credit   \n",
      "188        Interest rate normalized on previous credit   \n",
      "189                           Purpose of the cash loan   \n",
      "190  Contract status (approved, cancelled, ...) of ...   \n",
      "191  Relative to current application when was the d...   \n",
      "192  Payment method that client chose to pay for th...   \n",
      "193          Why was the previous application rejected   \n",
      "194  Who accompanied client when applying for the p...   \n",
      "195  Was the client old or new client when applying...   \n",
      "196  What kind of goods did the client apply for in...   \n",
      "197  Was the previous application for CASH, POS, CA...   \n",
      "198      Was the previous application x-sell o walk-in   \n",
      "199  Through which channel we acquired the client o...   \n",
      "200  Selling area of seller place of the previous a...   \n",
      "\n",
      "                                   Special  \n",
      "50                              normalized  \n",
      "51                              normalized  \n",
      "52                              normalized  \n",
      "53                              normalized  \n",
      "54                              normalized  \n",
      "55                              normalized  \n",
      "56                              normalized  \n",
      "57                              normalized  \n",
      "58                              normalized  \n",
      "59                              normalized  \n",
      "60                              normalized  \n",
      "61                              normalized  \n",
      "62                              normalized  \n",
      "63                              normalized  \n",
      "64                              normalized  \n",
      "65                              normalized  \n",
      "66                              normalized  \n",
      "67                              normalized  \n",
      "68                              normalized  \n",
      "69                              normalized  \n",
      "70                              normalized  \n",
      "71                              normalized  \n",
      "72                              normalized  \n",
      "73                              normalized  \n",
      "74                              normalized  \n",
      "75                              normalized  \n",
      "76                              normalized  \n",
      "77                              normalized  \n",
      "78                              normalized  \n",
      "79                              normalized  \n",
      "..                                     ...  \n",
      "171                                    NaN  \n",
      "172                                    NaN  \n",
      "173                                 hashed  \n",
      "174                                 hashed  \n",
      "175                                    NaN  \n",
      "176                                    NaN  \n",
      "177                                    NaN  \n",
      "178                                    NaN  \n",
      "179                                    NaN  \n",
      "180                                    NaN  \n",
      "181                                    NaN  \n",
      "182                                rounded  \n",
      "183                                    NaN  \n",
      "184                                    NaN  \n",
      "185                                    NaN  \n",
      "186                             normalized  \n",
      "187                             normalized  \n",
      "188                             normalized  \n",
      "189                                    NaN  \n",
      "190                                    NaN  \n",
      "191  time only relative to the application  \n",
      "192                                    NaN  \n",
      "193                                    NaN  \n",
      "194                                    NaN  \n",
      "195                                    NaN  \n",
      "196                                    NaN  \n",
      "197                                    NaN  \n",
      "198                                    NaN  \n",
      "199                                    NaN  \n",
      "200                                    NaN  \n",
      "\n",
      "[151 rows x 5 columns]\n",
      "                          Table                 Row\n",
      "0  application_{train|test}.csv          SK_ID_CURR\n",
      "1  application_{train|test}.csv              TARGET\n",
      "2  application_{train|test}.csv  NAME_CONTRACT_TYPE\n",
      "3  application_{train|test}.csv         CODE_GENDER\n",
      "4  application_{train|test}.csv        FLAG_OWN_CAR\n"
     ]
    }
   ],
   "source": [
    "# 擷取50~200 row\n",
    "print(HC_des[50:201])"
   ]
  },
  {
   "cell_type": "markdown",
   "metadata": {},
   "source": [
    "#### 還有各種數之不盡的資料操作，重點還是取決於實務中遇到的狀況和你想問的問題，在馬拉松中我們也會陸續提到更多例子"
   ]
  },
  {
   "cell_type": "code",
   "execution_count": 47,
   "metadata": {},
   "outputs": [
    {
     "name": "stdout",
     "output_type": "stream",
     "text": [
      "                          Table                 Row\n",
      "0  application_{train|test}.csv          SK_ID_CURR\n",
      "1  application_{train|test}.csv              TARGET\n",
      "2  application_{train|test}.csv  NAME_CONTRACT_TYPE\n",
      "3  application_{train|test}.csv         CODE_GENDER\n",
      "4  application_{train|test}.csv        FLAG_OWN_CAR\n"
     ]
    }
   ],
   "source": [
    "# 擷取前4個row & 前3個column\n",
    "print(HC_des.iloc[0:5,1:3])"
   ]
  }
 ],
 "metadata": {
  "kernelspec": {
   "display_name": "Python 3",
   "language": "python",
   "name": "python3"
  },
  "language_info": {
   "codemirror_mode": {
    "name": "ipython",
    "version": 3
   },
   "file_extension": ".py",
   "mimetype": "text/x-python",
   "name": "python",
   "nbconvert_exporter": "python",
   "pygments_lexer": "ipython3",
   "version": "3.7.1"
  }
 },
 "nbformat": 4,
 "nbformat_minor": 2
}
